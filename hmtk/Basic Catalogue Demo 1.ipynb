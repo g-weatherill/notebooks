{
 "cells": [
  {
   "cell_type": "markdown",
   "metadata": {},
   "source": [
    "# Hazard Modeller's Toolkit - Basic Catalogue Tools"
   ]
  },
  {
   "cell_type": "markdown",
   "metadata": {},
   "source": [
    "## The following is a demonstration of the basic ancilliary functions of the HMTK for the Catalogue Workflow"
   ]
  },
  {
   "cell_type": "markdown",
   "metadata": {},
   "source": [
    "The demonstration will do the following:\n",
    "\n",
    "1) Load the Earthquake Catalogue\n",
    "\n",
    "2) Explore Basic Functions for Investigating and Visualising the Properties of the Catalogue  "
   ]
  },
  {
   "cell_type": "markdown",
   "metadata": {},
   "source": [
    "### (Python Step) Import the needed libraries"
   ]
  },
  {
   "cell_type": "code",
   "execution_count": null,
   "metadata": {
    "collapsed": false
   },
   "outputs": [],
   "source": [
    "%matplotlib inline\n",
    "# Python Numerical and Plotting Libraries\n",
    "import numpy as np\n",
    "import matplotlib.pyplot as plt\n",
    "\n",
    "# HMTK Catalogue Import/Export Libraries\n",
    "from hmtk.parsers.catalogue.csv_catalogue_parser import CsvCatalogueParser, CsvCatalogueWriter\n",
    "\n",
    "# HMTK Plotting Tools\n",
    "from hmtk.plotting.seismicity.catalogue_plots import (plot_depth_histogram,\n",
    "                                                      plot_magnitude_time_scatter,\n",
    "                                                      plot_magnitude_time_density,\n",
    "                                                      plot_magnitude_depth_density,\n",
    "                                                      plot_observed_recurrence)\n",
    "from hmtk.plotting.mapping import HMTKBaseMap\n",
    "print 'Imports OK!'"
   ]
  },
  {
   "cell_type": "markdown",
   "metadata": {},
   "source": [
    "### Import the Catalogue"
   ]
  },
  {
   "cell_type": "code",
   "execution_count": null,
   "metadata": {
    "collapsed": false
   },
   "outputs": [],
   "source": [
    "input_catalogue_file = 'input_data/Aegean_ExtendedCat1.csv'\n",
    "parser = CsvCatalogueParser(input_catalogue_file)\n",
    "catalogue = parser.read_file()\n",
    "print 'Input complete: %s events in catalogue' % catalogue.get_number_events()\n",
    "print 'Catalogue Covers the Period: %s to %s' % (catalogue.start_year, catalogue.end_year)"
   ]
  },
  {
   "cell_type": "markdown",
   "metadata": {},
   "source": [
    "### If the catalogue is not in chronological order this can cause errors in later functions - sort chronologically after import to fix this"
   ]
  },
  {
   "cell_type": "code",
   "execution_count": null,
   "metadata": {
    "collapsed": false
   },
   "outputs": [],
   "source": [
    "# Sort catalogue chronologically\n",
    "catalogue.sort_catalogue_chronologically()\n",
    "print 'Catalogue sorted chronologically!'"
   ]
  },
  {
   "cell_type": "markdown",
   "metadata": {},
   "source": [
    "### Viewing the Catalogue"
   ]
  },
  {
   "cell_type": "code",
   "execution_count": null,
   "metadata": {
    "collapsed": false
   },
   "outputs": [],
   "source": [
    "# Configure the limits of the map and the coastline resolution\n",
    "map_config = {'min_lon': 18.0, 'max_lon': 32.0, 'min_lat': 33.0, 'max_lat': 43.0, 'resolution':'h'}\n",
    "# Create a hmtk basemap\n",
    "basemap1 = HMTKBaseMap(map_config, 'Earthquake Catalogue')\n",
    "# Add a catalogue\n",
    "basemap1.add_catalogue(catalogue)"
   ]
  },
  {
   "cell_type": "markdown",
   "metadata": {},
   "source": [
    "### Adding a Source Model"
   ]
  },
  {
   "cell_type": "markdown",
   "metadata": {},
   "source": [
    "The following is an area source model for the Aegean region (Weatherill & Burton, 2010) - this source model will be used in further examples"
   ]
  },
  {
   "cell_type": "code",
   "execution_count": null,
   "metadata": {
    "collapsed": false
   },
   "outputs": [],
   "source": [
    "# Source Model file\n",
    "source_model_file = 'input_data/WT2006_Aegean_Sources.xml'\n",
    "\n",
    "# Import the source model parser\n",
    "from hmtk.parsers.source_model.nrml04_parser import nrmlSourceModelParser\n",
    "\n",
    "# Load source model\n",
    "parser = nrmlSourceModelParser(source_model_file)\n",
    "source_model = parser.read_file(\"Aegean Source Model\")\n",
    "\n",
    "# Create a hmtk basemap with a catalogue and source model\n",
    "basemap2 = HMTKBaseMap(map_config, 'Earthquake Catalogue & Area Source Model')\n",
    "basemap2.add_catalogue(catalogue, overlay=True) # Adds the catalogue\n",
    "basemap2.add_source_model(source_model, area_border='r-', border_width=1.5) # Adds the source model\n"
   ]
  },
  {
   "cell_type": "markdown",
   "metadata": {},
   "source": [
    "### Magnitude-Time Properties"
   ]
  },
  {
   "cell_type": "code",
   "execution_count": null,
   "metadata": {
    "collapsed": false
   },
   "outputs": [],
   "source": [
    "# Show distribution of magnitudes with time\n",
    "plot_magnitude_time_scatter(catalogue, fmt_string='.')"
   ]
  },
  {
   "cell_type": "code",
   "execution_count": null,
   "metadata": {
    "collapsed": false
   },
   "outputs": [],
   "source": [
    "# Add some error-bars\n",
    "plot_magnitude_time_scatter(catalogue, plot_error=True, fmt_string='.')\n"
   ]
  },
  {
   "cell_type": "code",
   "execution_count": null,
   "metadata": {
    "collapsed": false
   },
   "outputs": [],
   "source": [
    "# Plot the magnitude-time density\n",
    "magnitude_bin = 0.1\n",
    "time_bin = 1.0 # in Decimal Years\n",
    "plot_magnitude_time_density(catalogue, magnitude_bin, time_bin)"
   ]
  },
  {
   "cell_type": "markdown",
   "metadata": {},
   "source": [
    "### Simple Histograms - Depth"
   ]
  },
  {
   "cell_type": "code",
   "execution_count": null,
   "metadata": {
    "collapsed": false
   },
   "outputs": [],
   "source": [
    "# Depth histogram\n",
    "plot_depth_histogram(catalogue, 5.)"
   ]
  },
  {
   "cell_type": "code",
   "execution_count": null,
   "metadata": {
    "collapsed": false
   },
   "outputs": [],
   "source": [
    "# Depth histogram (with bootstrap sampling depth uncertainty)\n",
    "depth_bin = 5.0 # in km\n",
    "plot_depth_histogram(catalogue, depth_bin, bootstrap=500)"
   ]
  },
  {
   "cell_type": "code",
   "execution_count": null,
   "metadata": {
    "collapsed": false
   },
   "outputs": [],
   "source": [
    "# Magnitude Depth Density\n",
    "magnitude_bin = 0.1\n",
    "depth_bin = 5.0  # in km\n",
    "plot_magnitude_depth_density(catalogue, magnitude_bin, depth_bin, logscale=True)"
   ]
  },
  {
   "cell_type": "markdown",
   "metadata": {},
   "source": [
    "### Simple plots of earthquake recurrence"
   ]
  },
  {
   "cell_type": "code",
   "execution_count": null,
   "metadata": {
    "collapsed": false
   },
   "outputs": [],
   "source": [
    "# Time-varying completeness\n",
    "completeness = np.array([[1985., 4.0],\n",
    "                         [1964., 5.0],\n",
    "                         [1910., 6.5]])\n",
    "plot_observed_recurrence(catalogue, completeness, 0.1, catalogue.end_year)"
   ]
  },
  {
   "cell_type": "markdown",
   "metadata": {},
   "source": [
    "### Using Numpy logical tools for simple selection process"
   ]
  },
  {
   "cell_type": "code",
   "execution_count": null,
   "metadata": {
    "collapsed": false
   },
   "outputs": [],
   "source": [
    "# Limit the catalogue to the time period 1960 - 2012\n",
    "valid_time = np.logical_and(catalogue.data['year'] >= 1960,\n",
    "                            catalogue.data['year'] <= 2012)\n",
    "catalogue.select_catalogue_events(valid_time)\n",
    "plot_magnitude_time_density(catalogue, 0.1, 1.0)\n",
    "print 'Catalogue now contains %s events' % catalogue.get_number_events()"
   ]
  },
  {
   "cell_type": "code",
   "execution_count": null,
   "metadata": {
    "collapsed": false
   },
   "outputs": [],
   "source": [
    "# Limit the catalogue to depths less than 50 km\n",
    "valid_depth = catalogue.data['depth'] <= 50.\n",
    "catalogue.select_catalogue_events(valid_depth)\n",
    "plot_depth_histogram(catalogue, 2.0)\n"
   ]
  },
  {
   "cell_type": "markdown",
   "metadata": {},
   "source": [
    "## Exporting the Catalogue"
   ]
  },
  {
   "cell_type": "markdown",
   "metadata": {},
   "source": [
    "### At any time the current content of the catalogue can be written to csv:"
   ]
  },
  {
   "cell_type": "code",
   "execution_count": null,
   "metadata": {
    "collapsed": false
   },
   "outputs": [],
   "source": [
    "# Set-up the file writer\n",
    "output_file_name = 'output_data/basic_demo_catalogue_1.csv'\n",
    "writer = CsvCatalogueWriter(output_file_name)\n",
    "\n",
    "# Write the catalogue to file\n",
    "writer.write_file(catalogue)\n",
    "\n",
    "print 'File %s written' % output_file_name"
   ]
  },
  {
   "cell_type": "markdown",
   "metadata": {},
   "source": [
    "### If you wish, you can export only the complete events:"
   ]
  },
  {
   "cell_type": "code",
   "execution_count": null,
   "metadata": {
    "collapsed": false
   },
   "outputs": [],
   "source": [
    "completeness = np.array([[1985., 4.0],\n",
    "                         [1964., 5.0],\n",
    "                         [1910., 6.5]])\n",
    "# Set-up the exporter\n",
    "output_file_name = 'output_data/basic_demo_catalogue_complete_1.csv'\n",
    "writer = CsvCatalogueWriter(output_file_name)\n",
    "\n",
    "# Write the catalogue to file, purging events from the incomplete period\n",
    "writer.write_file(catalogue, magnitude_table=completeness)\n",
    "\n",
    "print 'File %s written' % output_file_name"
   ]
  }
 ],
 "metadata": {
  "kernelspec": {
   "display_name": "Python 2",
   "language": "python",
   "name": "python2"
  },
  "language_info": {
   "codemirror_mode": {
    "name": "ipython",
    "version": 2
   },
   "file_extension": ".py",
   "mimetype": "text/x-python",
   "name": "python",
   "nbconvert_exporter": "python",
   "pygments_lexer": "ipython2",
   "version": "2.7.2"
  }
 },
 "nbformat": 4,
 "nbformat_minor": 0
}
